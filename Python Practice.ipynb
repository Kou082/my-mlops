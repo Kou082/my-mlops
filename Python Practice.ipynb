{
 "cells": [
  {
   "cell_type": "markdown",
   "id": "4b5e261d",
   "metadata": {},
   "source": [
    "# List "
   ]
  },
  {
   "cell_type": "markdown",
   "id": "31c769f5",
   "metadata": {},
   "source": [
    "## 1. Reverse a list"
   ]
  },
  {
   "cell_type": "code",
   "execution_count": 2,
   "id": "39b8a92b",
   "metadata": {},
   "outputs": [
    {
     "name": "stdout",
     "output_type": "stream",
     "text": [
      "The reversed list is: [10, 9, 8, 7, 6, 5, 4, 3, 2, 1]\n"
     ]
    }
   ],
   "source": [
    "a=[1,2,3,4,5,6,7,8,9,10]\n",
    "b=a[::-1]\n",
    "print(f\"The reversed list is: {b}\")"
   ]
  },
  {
   "cell_type": "markdown",
   "id": "cb01cf3f",
   "metadata": {},
   "source": [
    "## 2. Remove duplicates from a list while preserving order."
   ]
  },
  {
   "cell_type": "code",
   "execution_count": null,
   "id": "b2724ad2",
   "metadata": {},
   "outputs": [
    {
     "name": "stdout",
     "output_type": "stream",
     "text": [
      "The unique elements in the list: [1, 2, 3, 4, 5, 6]\n"
     ]
    }
   ],
   "source": [
    "a=[1,2,1,3,4,2,5,6,3,5]\n",
    "\n",
    "# Set Approach\n",
    "b=list(set(a))\n",
    "print(f\"The unique elements in the list: {b}\")"
   ]
  },
  {
   "cell_type": "markdown",
   "id": "4bb214f1",
   "metadata": {},
   "source": [
    "#### Alternative Approach"
   ]
  },
  {
   "cell_type": "code",
   "execution_count": 4,
   "id": "7f785f6c",
   "metadata": {},
   "outputs": [
    {
     "name": "stdout",
     "output_type": "stream",
     "text": [
      "The unique elements in the list using loop: [1, 2, 3, 4, 5, 6]\n"
     ]
    }
   ],
   "source": [
    "a=[1,2,1,3,4,2,5,6,3,5]\n",
    "\n",
    "emp=[]\n",
    "\n",
    "for i in a:\n",
    "    if i not in emp:\n",
    "        emp.append(i)\n",
    "\n",
    "print(f\"The unique elements in the list using loop: {emp}\")"
   ]
  },
  {
   "cell_type": "markdown",
   "id": "18c7d6ee",
   "metadata": {},
   "source": [
    "## 3. Find the missing number in a list of 1 to n"
   ]
  },
  {
   "cell_type": "code",
   "execution_count": 7,
   "id": "d2a2e657",
   "metadata": {},
   "outputs": [
    {
     "name": "stdout",
     "output_type": "stream",
     "text": [
      "The missing elements in the list are :\n",
      "\n",
      "7\n",
      "8\n"
     ]
    }
   ],
   "source": [
    "a=[1,2,3,4,5,6,9,10]\n",
    "\n",
    "b=list(range(1,11))\n",
    "print(\"The missing elements in the list are :\\n\")\n",
    "for i in range(1,len(b)+1):\n",
    "    if i not in a:\n",
    "        print(i)"
   ]
  },
  {
   "cell_type": "markdown",
   "id": "c811f470",
   "metadata": {},
   "source": [
    "## 4. Find all pairs in a list that sum to k"
   ]
  },
  {
   "cell_type": "code",
   "execution_count": null,
   "id": "4c19a507",
   "metadata": {},
   "outputs": [
    {
     "name": "stdout",
     "output_type": "stream",
     "text": [
      "The pairs of elements that sum to 11 are: [(2, 9), (3, 8), (4, 7), (5, 6)]\n"
     ]
    }
   ],
   "source": [
    "a=[1,2,3,4,5,6,7,8,9,10]\n",
    "\n",
    "k=int(input(\"Enter a number : \"))\n",
    "emp=[]\n",
    "for i in range(1,len(a)):\n",
    "    for j in range(i+1,len(a)):\n",
    "        if a[i]+a[j]==k:\n",
    "            emp.append((a[i],a[j]))\n",
    "\n",
    "print(f\"The pairs of elements that sum to {k} are: {emp}\")"
   ]
  },
  {
   "cell_type": "markdown",
   "id": "cbd7b511",
   "metadata": {},
   "source": [
    "## 5. Rotate a list left/right by k positions."
   ]
  },
  {
   "cell_type": "code",
   "execution_count": 15,
   "id": "2df4cbc3",
   "metadata": {},
   "outputs": [
    {
     "name": "stdout",
     "output_type": "stream",
     "text": [
      "Rotated List : [5, 6, 7, 8, 9, 10, 1, 2, 3, 4]\n"
     ]
    }
   ],
   "source": [
    "def rotate_list(lst,k):\n",
    "    n=len(lst)\n",
    "    k = k%n\n",
    "    return lst[k:] + lst[:k]\n",
    "\n",
    "a=[1,2,3,4,5,6,7,8,9,10]\n",
    "k=int(input(\"Enter the number of positions to rotate: \"))\n",
    "rotated_list = rotate_list(a, k)\n",
    "print(f\"Rotated List : {rotated_list}\")"
   ]
  },
  {
   "cell_type": "markdown",
   "id": "c587edd0",
   "metadata": {},
   "source": [
    "## 6. Split a string into chunks of size n each and store in list."
   ]
  },
  {
   "cell_type": "code",
   "execution_count": 2,
   "id": "6cae0487",
   "metadata": {},
   "outputs": [
    {
     "name": "stdout",
     "output_type": "stream",
     "text": [
      "['Kohli w', 'as the ', 'captain', ' of the', ' 2008 U', '19 Worl', 'd Cup w', 'inning ', 'team an', 'd was a', ' crucia', 'l membe', 'r of th', 'e teams', ' that w', 'on 2011', ' ODI Wo', 'rld Cup', ', 2013 ', 'Champio', 'ns Trop', 'hy, 202', '4 T20 W', 'orld Cu', 'p, and ', '2025 Ch', 'ampions', ' Trophy', '.']\n"
     ]
    }
   ],
   "source": [
    "str1 = \"Kohli was the captain of the 2008 U19 World Cup winning team and was a crucial member of the teams that won 2011 ODI World Cup, 2013 Champions Trophy, 2024 T20 World Cup, and 2025 Champions Trophy.\"\n",
    "\n",
    "def chunk_list(str, n):\n",
    "    return [str[i:i+n] for i in range(0,len(str),n)]\n",
    "\n",
    "n=int(input(\"Enter the chunk size: \"))\n",
    "lst=chunk_list(str1, n)\n",
    "\n",
    "print(lst)"
   ]
  },
  {
   "cell_type": "markdown",
   "id": "2eb7d428",
   "metadata": {},
   "source": [
    "## 7. Flatten a nested list (e.g., [1, [2, [3]]] → [1, 2, 3])."
   ]
  },
  {
   "cell_type": "code",
   "execution_count": 3,
   "id": "c672b649",
   "metadata": {},
   "outputs": [
    {
     "name": "stdout",
     "output_type": "stream",
     "text": [
      "The flattened list is: [1, 2, 3, 4, 5, 6, 7, 8]\n"
     ]
    }
   ],
   "source": [
    "def flatten(nested_list):\n",
    "    flat_list = []\n",
    "    for item in nested_list:\n",
    "        if isinstance(item, list):  # If the item is a list\n",
    "            flat_list.extend(flatten(item))  # Recursively flatten it\n",
    "        else:\n",
    "            flat_list.append(item)  # Add non-list items directly\n",
    "    return flat_list\n",
    "\n",
    "nested_list = [1, [2, 3], [4, [5, 6]], 7, 8]\n",
    "flat_list = flatten(nested_list)\n",
    "print(f\"The flattened list is: {flat_list}\")"
   ]
  },
  {
   "cell_type": "markdown",
   "id": "f9afd70e",
   "metadata": {},
   "source": [
    "## 8. Find the second-largest number in a list."
   ]
  },
  {
   "cell_type": "code",
   "execution_count": 9,
   "id": "d7083304",
   "metadata": {},
   "outputs": [
    {
     "name": "stdout",
     "output_type": "stream",
     "text": [
      "Second Highest: 9\n"
     ]
    }
   ],
   "source": [
    "a = [1, 2, 3, 4, 5, 6, 7, 8, 9, 10, 1]\n",
    "\n",
    "def second_highest(lst):\n",
    "    unique_sorted = sorted(list(set(lst)), reverse=True)  # Remove duplicates and sort descending\n",
    "    return unique_sorted[1] if len(unique_sorted) > 1 else None  # Handle single-element lists\n",
    "\n",
    "second = second_highest(a)\n",
    "print(f\"Second Highest: {second}\")  # Output: Second Highest: 9"
   ]
  },
  {
   "cell_type": "markdown",
   "id": "ecfa91e0",
   "metadata": {},
   "source": [
    "## 9. Check if a list is empty or not."
   ]
  },
  {
   "cell_type": "code",
   "execution_count": 10,
   "id": "c56efbdc",
   "metadata": {},
   "outputs": [
    {
     "name": "stdout",
     "output_type": "stream",
     "text": [
      "The list is empty.\n"
     ]
    }
   ],
   "source": [
    "a=[]\n",
    "if len(a)==0:\n",
    "    print(\"The list is empty.\")\n",
    "else:\n",
    "    print(\"The list is not empty.\")"
   ]
  },
  {
   "cell_type": "markdown",
   "id": "b4173d68",
   "metadata": {},
   "source": [
    "## 10. Count the occurrences of an element in a list and store it in a dictionary"
   ]
  },
  {
   "cell_type": "code",
   "execution_count": 2,
   "id": "c72d5957",
   "metadata": {},
   "outputs": [
    {
     "name": "stdout",
     "output_type": "stream",
     "text": [
      "Occurrences of each element in the list:\n",
      "1:2\n",
      "2:2\n",
      "3:1\n",
      "4:2\n",
      "5:2\n",
      "6:1\n",
      "7:1\n",
      "8:1\n",
      "9:1\n"
     ]
    }
   ],
   "source": [
    "a=[1,2,3,4,1,2,4,5,6,5,7,8,9]\n",
    "\n",
    "def count_occurances(list1):\n",
    "    dict={}\n",
    "    for i in list1:\n",
    "        if i in dict:\n",
    "            dict[i]+=1\n",
    "        else:\n",
    "            dict[i]=1\n",
    "    return dict\n",
    "\n",
    "occurrences = count_occurances(a)\n",
    "print(\"Occurrences of each element in the list:\")\n",
    "\n",
    "for key,value in occurrences.items():\n",
    "    print(f\"{key}:{value}\")"
   ]
  },
  {
   "cell_type": "markdown",
   "id": "403c89dd",
   "metadata": {},
   "source": [
    "## 11. Remove all occurrences of a specific element from a list"
   ]
  },
  {
   "cell_type": "code",
   "execution_count": 4,
   "id": "a65ec4ba",
   "metadata": {},
   "outputs": [
    {
     "name": "stdout",
     "output_type": "stream",
     "text": [
      "The list after removing all occurrences of 1 is: [2, 3, 4, 5, 6, 7, 8, 9, 10, 1, 2, 3, 4, 5, 2, 3]\n"
     ]
    }
   ],
   "source": [
    "a=[1,2,3,4,5,6,7,8,9,10,1,1,2,3,4,5,2,3]\n",
    "\n",
    "num=int(input(\"Enter a number to remove all it's occurrances in the list : \"))\n",
    "\n",
    "for i in a:\n",
    "    if i==num:\n",
    "        a.remove(i)\n",
    "\n",
    "print(f\"The list after removing all occurrences of {num} is: {a}\")"
   ]
  },
  {
   "cell_type": "markdown",
   "id": "29fddbcc",
   "metadata": {},
   "source": [
    "## 12. Find the majority occured element "
   ]
  },
  {
   "cell_type": "code",
   "execution_count": 2,
   "id": "896caf92",
   "metadata": {},
   "outputs": [
    {
     "name": "stdout",
     "output_type": "stream",
     "text": [
      "2\n"
     ]
    }
   ],
   "source": [
    "def majority_element_easy(nums):\n",
    "    for num in nums:\n",
    "        if nums.count(num) > len(nums) // 2:  # Check if 'num' appears > n/2 times\n",
    "            return num\n",
    "    return None  # No majority found\n",
    "\n",
    "# Example\n",
    "nums = [2, 2, 1, 1, 1, 2, 2]\n",
    "print(majority_element_easy(nums))  # Output: 2"
   ]
  },
  {
   "cell_type": "markdown",
   "id": "a25608bf",
   "metadata": {},
   "source": [
    "## 13. Check if a list is a palindrome."
   ]
  },
  {
   "cell_type": "code",
   "execution_count": 5,
   "id": "4a8d3aed",
   "metadata": {},
   "outputs": [
    {
     "name": "stdout",
     "output_type": "stream",
     "text": [
      "The list is a palindrome.\n"
     ]
    }
   ],
   "source": [
    "a=[1,2,3,3,2,1]\n",
    "\n",
    "b=a[::-1]\n",
    "\n",
    "if a==b:\n",
    "    print(\"The list is a palindrome.\")\n",
    "else:   \n",
    "    print(\"The list is not a palindrome.\")"
   ]
  },
  {
   "cell_type": "markdown",
   "id": "868ef8b8",
   "metadata": {},
   "source": [
    "## 14. Find the smallest and largest numbers in a list without min()/max()."
   ]
  },
  {
   "cell_type": "code",
   "execution_count": 19,
   "id": "ef4baf3b",
   "metadata": {},
   "outputs": [
    {
     "name": "stdout",
     "output_type": "stream",
     "text": [
      "The maximum element in the list is: 10\n",
      "The minimum element in the list is: 1\n"
     ]
    }
   ],
   "source": [
    "a=[1,2,3,4,5,6,7,8,9,10]\n",
    "\n",
    "def max_element(lst):\n",
    "    # a=max(lst)\n",
    "    # a=sorted(lst,reverse=True)[0] \n",
    "    b=lst[0]\n",
    "    for i in a:\n",
    "        if i>b:\n",
    "            b=i\n",
    "    return b\n",
    "\n",
    "def min_element(lst):\n",
    "    # a=max(lst)\n",
    "    # a=sorted(lst,reverse=True)[0] \n",
    "    b=lst[0]\n",
    "    for i in a:\n",
    "        if i<b:\n",
    "            b=i\n",
    "    return b\n",
    "\n",
    "print(f\"The maximum element in the list is: {max_element(a)}\")\n",
    "print(f\"The minimum element in the list is: {min_element(a)}\")"
   ]
  },
  {
   "cell_type": "markdown",
   "id": "2365d8c6",
   "metadata": {},
   "source": [
    "## 15. Find the median of a list."
   ]
  },
  {
   "cell_type": "code",
   "execution_count": null,
   "id": "52be5e25",
   "metadata": {},
   "outputs": [
    {
     "name": "stdout",
     "output_type": "stream",
     "text": [
      "5.5\n"
     ]
    }
   ],
   "source": [
    "import statistics as sts\n",
    "\n",
    "a=[1,2,3,4,5,6,7,8,9,10]\n",
    "median = sts.median(a)\n",
    "\n",
    "print(median)"
   ]
  },
  {
   "cell_type": "markdown",
   "id": "99b69a78",
   "metadata": {},
   "source": [
    "## 16. Remove every k-th element from a list."
   ]
  },
  {
   "cell_type": "code",
   "execution_count": 24,
   "id": "3e9a8714",
   "metadata": {},
   "outputs": [
    {
     "name": "stdout",
     "output_type": "stream",
     "text": [
      "The list after removing every 2th element is: [1, 3, 5, 7, 9, 11, 13, 15, 17, 19]\n"
     ]
    }
   ],
   "source": [
    "a=[1,2,3,4,5,6,7,8,9,10,11,12,13,14,15,16,17,18,19,20]\n",
    "\n",
    "k = int(input(\"Enter the position at which you want to delete an element in every occurrence of that position :\"))\n",
    "\n",
    "def remove_kth_element(lst,k):\n",
    "    return [element for i,element in enumerate(lst,0) if (i+1)%k!=0]\n",
    "\n",
    "print(f\"The list after removing every {k}th element is: {remove_kth_element(a, k)}\")\n"
   ]
  },
  {
   "cell_type": "markdown",
   "id": "903e1127",
   "metadata": {},
   "source": [
    "## 17. Find the shortest and longest words in a list of strings."
   ]
  },
  {
   "cell_type": "code",
   "execution_count": 26,
   "id": "32919c42",
   "metadata": {},
   "outputs": [
    {
     "name": "stdout",
     "output_type": "stream",
     "text": [
      "The shortest name in the list is: Doe\n",
      "The longest name in the list is: langstrom\n"
     ]
    }
   ],
   "source": [
    "a=[\"Koushik\", \"John\", \"Doe\", \"Jane\", \"Smith\",\"langstrom\", \"Kohli\", \"Rohit\",\"Gyalen\", \"Raina\", \"Dhoni\", \"Yadav\", \"Kumar\", \"Sharma\", \"Singh\"]\n",
    "\n",
    "def find_shortest_name(lst):\n",
    "    if not lst:\n",
    "        return None, None  # Handle empty list case\n",
    "    shortest_word = min(lst, key=len)\n",
    "    return shortest_word\n",
    "\n",
    "def find_longest_name(lst):\n",
    "    if not lst:\n",
    "        return None, None  # Handle empty list case\n",
    "    longest_word = max(lst,key=len)\n",
    "    return longest_word\n",
    "\n",
    "shortest_name = find_shortest_name(a)\n",
    "print(f\"The shortest name in the list is: {shortest_name}\")\n",
    "longest_name = find_longest_name(a)\n",
    "print(f\"The longest name in the list is: {longest_name}\")"
   ]
  },
  {
   "cell_type": "markdown",
   "id": "0ae79b33",
   "metadata": {},
   "source": [
    "# 18. Replace negative numbers with zero in a list"
   ]
  },
  {
   "cell_type": "code",
   "execution_count": 29,
   "id": "e7a154f8",
   "metadata": {},
   "outputs": [
    {
     "name": "stdout",
     "output_type": "stream",
     "text": [
      "The list after replacing negative numbers with 0 is: [0, 2, 0, 4, 0, 6, 0, 8, 0, 10, 2, 3, 4, 5, 6, 4, 3, 3, 2, 4, 55, 5, 3, 2, 1, 0]\n"
     ]
    }
   ],
   "source": [
    "a=[-1, 2, -3, 4, -5, 6, -7, 8, -9, 10,2,3,4,5,6,4,3,3,2,4,55,5,3,2,1,0]\n",
    "\n",
    "for i in range(len(a)):\n",
    "    if a[i]<0:\n",
    "        a[i]=0\n",
    "print(f\"The list after replacing negative numbers with 0 is: {a}\")"
   ]
  },
  {
   "cell_type": "markdown",
   "id": "db28955c",
   "metadata": {},
   "source": [
    "## 19. Count the number of primes in a list."
   ]
  },
  {
   "cell_type": "code",
   "execution_count": 31,
   "id": "70747202",
   "metadata": {},
   "outputs": [
    {
     "name": "stdout",
     "output_type": "stream",
     "text": [
      "The number of prime numbers in the list is: 14\n"
     ]
    }
   ],
   "source": [
    "import math\n",
    "\n",
    "a=[1,2,3,7,11,13,17,19,23,29,31,37,41,43,47,4,6,9,24,55,32]\n",
    "\n",
    "def is_prime(num):\n",
    "    for i in range(2,int(math.sqrt(num))+1):\n",
    "        if num%i == 0:\n",
    "            return 0\n",
    "            break\n",
    "        else:\n",
    "            return 1\n",
    "        \n",
    "def count_primes(lst):\n",
    "    count=0\n",
    "    for items in lst:\n",
    "        if is_prime(items)==1:\n",
    "            count+=1\n",
    "    return count\n",
    "\n",
    "print(f\"The number of prime numbers in the list is: {count_primes(a)}\")"
   ]
  },
  {
   "cell_type": "markdown",
   "id": "67b1c0b8",
   "metadata": {},
   "source": [
    "## 20. Swap the first and last elements of a list."
   ]
  },
  {
   "cell_type": "code",
   "execution_count": 32,
   "id": "07462947",
   "metadata": {},
   "outputs": [
    {
     "name": "stdout",
     "output_type": "stream",
     "text": [
      "The list after swapping first and last elements is: [10, 2, 3, 4, 5, 6, 7, 8, 9, 1]\n"
     ]
    }
   ],
   "source": [
    "a=[1,2,3,4,5,6,7,8,9,10]\n",
    "\n",
    "def swap_first_last(lst):\n",
    "    if len(lst) < 2:\n",
    "        return lst  # No swap needed for lists with less than 2 elements\n",
    "    lst[0], lst[-1] = lst[-1], lst[0]\n",
    "    return lst\n",
    "swapped_list = swap_first_last(a)\n",
    "print(f\"The list after swapping first and last elements is: {swapped_list}\")"
   ]
  },
  {
   "cell_type": "markdown",
   "id": "6c505d7d",
   "metadata": {},
   "source": [
    "## 21. Find the intersection of two lists."
   ]
  },
  {
   "cell_type": "code",
   "execution_count": 35,
   "id": "e3e49ddc",
   "metadata": {},
   "outputs": [
    {
     "name": "stdout",
     "output_type": "stream",
     "text": [
      "The common elements in both lists are: [6, 7, 8, 9, 10]\n"
     ]
    }
   ],
   "source": [
    "a=[1,2,3,4,5,6,7,8,9,10]\n",
    "\n",
    "b=[6,7,8,9,10,11,12,13,14,15]\n",
    "\n",
    "def commmon_elements(lst1,lst2):\n",
    "    common = set(lst1) & set(lst2)\n",
    "    return list(common)\n",
    "common_elements_list = commmon_elements(a, b)\n",
    "print(f\"The common elements in both lists are: {common_elements_list}\")"
   ]
  },
  {
   "cell_type": "markdown",
   "id": "98545b18",
   "metadata": {},
   "source": [
    "## 22. Split a list into even and odd elements."
   ]
  },
  {
   "cell_type": "code",
   "execution_count": 38,
   "id": "a060da3a",
   "metadata": {},
   "outputs": [
    {
     "name": "stdout",
     "output_type": "stream",
     "text": [
      "The even numbers in the list are: [2, 4, 6, 8, 10, 12, 14, 16, 18, 20]\n",
      "The odd numbers in the list are: [1, 3, 5, 7, 9, 11, 13, 15, 17, 19]\n"
     ]
    }
   ],
   "source": [
    "a=[1,2,3,4,5,6,7,8,9,10,11,12,13,14,15,16,17,18,19,20]\n",
    "\n",
    "def even_odd_split(lst):\n",
    "    even_numbers=[i for i in lst if i%2==0]\n",
    "    odd_numbers=[i for i in lst if i%2!=0]\n",
    "    return even_numbers, odd_numbers\n",
    "\n",
    "even_numbers, odd_numbers = even_odd_split(a)\n",
    "print(f\"The even numbers in the list are: {even_numbers}\")\n",
    "print(f\"The odd numbers in the list are: {odd_numbers}\")"
   ]
  },
  {
   "cell_type": "code",
   "execution_count": null,
   "id": "57db5f06",
   "metadata": {},
   "outputs": [],
   "source": []
  }
 ],
 "metadata": {
  "kernelspec": {
   "display_name": "base",
   "language": "python",
   "name": "python3"
  },
  "language_info": {
   "codemirror_mode": {
    "name": "ipython",
    "version": 3
   },
   "file_extension": ".py",
   "mimetype": "text/x-python",
   "name": "python",
   "nbconvert_exporter": "python",
   "pygments_lexer": "ipython3",
   "version": "3.12.7"
  }
 },
 "nbformat": 4,
 "nbformat_minor": 5
}
